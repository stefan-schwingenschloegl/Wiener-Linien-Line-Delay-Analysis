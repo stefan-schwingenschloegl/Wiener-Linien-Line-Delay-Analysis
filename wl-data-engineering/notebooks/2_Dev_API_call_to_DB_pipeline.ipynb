{
 "cells": [
  {
   "cell_type": "markdown",
   "id": "d5912526-8932-4111-9804-4b6aae208032",
   "metadata": {},
   "source": [
    "# Development API call to Database\n",
    "* Author: Stefan Roland Schwingenschlögl\n",
    "* email: stefan.roland.schwingenschloegl@gmail.com\n",
    "* github: https://github.com/stefan-schwingenschloegl/\n",
    "---\n",
    "This notebooks is intended to develop the pipeline to call the API and ingest the information into the MS SQL Server. This code is then shifted to kedro nodes and pipeline."
   ]
  },
  {
   "cell_type": "code",
   "execution_count": 1,
   "id": "7ceb052f-5ed4-458b-8dcc-f54c3edd70f4",
   "metadata": {},
   "outputs": [],
   "source": [
    "# import libraries\n",
    "import pandas as pd\n",
    "import requests\n",
    "\n",
    "from typing import Dict, List"
   ]
  },
  {
   "cell_type": "markdown",
   "id": "a37af1dd-7c2e-4491-b00e-00a9a2249617",
   "metadata": {},
   "source": [
    "# Overall pipeline method\n",
    "\n",
    "<ol>\n",
    "    <li>Call API and validate response</li>\n",
    "    <li>Save as pandas pq file</li>\n",
    "</ol>"
   ]
  },
  {
   "cell_type": "code",
   "execution_count": 2,
   "id": "e05bfe13-633a-4bf3-8182-6ed6849f354b",
   "metadata": {},
   "outputs": [],
   "source": [
    "def API_database_ingestion_pipeline(api_response, \n",
    "                                    api_error_dict,\n",
    "                                    db_column_names,\n",
    "                                    direction_to_consider\n",
    "                                   ):\n",
    "    \"\"\"\n",
    "    Main method to call all transformation steps of the data pipeline\n",
    "    \"\"\"\n",
    "\n",
    "    # call API and validate response\n",
    "    api_response = call_API(api_response, api_error_dict)\n",
    "\n",
    "    # get next depart and convert to relational db format\n",
    "    relational_data = get_next_depart_and_convert_format(db_column_names, api_response)\n",
    "\n",
    "    # prefilter to right directions\n",
    "    output_data = prefilter_for_direction(relational_data, direction_to_consider)\n",
    "\n",
    "    return output_data"
   ]
  },
  {
   "cell_type": "markdown",
   "id": "619ae380-fd39-4dd4-9b09-03234d392529",
   "metadata": {},
   "source": [
    "## Call API and validate response"
   ]
  },
  {
   "cell_type": "code",
   "execution_count": 3,
   "id": "1479d417-8069-44d7-a979-b82bfabe8c81",
   "metadata": {},
   "outputs": [],
   "source": [
    "def call_API(api_response: requests.models.Response,\n",
    "             api_error_dict: Dict) -> Dict:\n",
    "    \"\"\"\n",
    "    Method to call API defined by URL in data catalog. Check if Call was sucessfull and if not which error it is.\n",
    "\n",
    "    :param api_response requests.models.Response: API response \n",
    "    :param api_error_dict Dict: Dictionary with all error codes from documentation\n",
    "    :return: if sucessfull call -> API response in dict format\n",
    "    :raises ValueError: If response of API is not 200 -> Raise error according to return code.\n",
    "    \"\"\"    \n",
    "\n",
    "    # Check if status of query was successfull\n",
    "    if api_response.status_code == 200:\n",
    "        print(f\"API call for successful!\")\n",
    "        return api_response.json()\n",
    "\n",
    "    elif api_response.status_code in api_error_dict.keys():\n",
    "        raise ValueError(f\"API call not successful due to Wiener Linien internal defined error!\\\n",
    "        Reason {api_response.status_code}: {api_error_dict[api_response.status_code]}\") \n",
    "\n",
    "    else:\n",
    "        raise ValueError(f\"API call not successful and status code not defined by to Wiener Linien!\")"
   ]
  },
  {
   "cell_type": "markdown",
   "id": "13f8cda9-8867-4328-a705-5c664415d48e",
   "metadata": {},
   "source": [
    "# Prefilter API Response to get the next depature per stopID and transform into db staging table schema"
   ]
  },
  {
   "cell_type": "code",
   "execution_count": 4,
   "id": "91d11abf-8cf7-45c2-90cb-18493fc275c2",
   "metadata": {},
   "outputs": [],
   "source": [
    "def get_next_depart_and_convert_format(db_column_names: List[str],\n",
    "                                       api_response: Dict) -> pd.DataFrame:\n",
    "    \"\"\"\n",
    "    Iterate through all stops and get the next line which is going to depart from each stop\n",
    "\n",
    "    :params df_schema List[str]: List of strings with the column names\n",
    "    :params api_response Dict: json response from the API\n",
    "    :returns: dataframe with every next depature per stop\n",
    "    \"\"\"\n",
    "    \n",
    "    \n",
    "    return_df = pd.DataFrame()\n",
    "    timestamp = pd.json_normalize(api_response)['message.serverTime'].values[0]\n",
    "\n",
    "    for num, stop in enumerate(api_response['data']['monitors']):\n",
    "        # get stop attributes\n",
    "        stop_normalized = pd.json_normalize(api_response['data']['monitors'][num])\n",
    "        stop_name = stop_normalized['locationStop.properties.title'].values[0]\n",
    "        rbl = stop_normalized['locationStop.properties.attributes.rbl'].values[0]\n",
    "\n",
    "        # get lines attributes\n",
    "        lines_normalized = pd.json_normalize(stop_normalized['lines'].values[0])\n",
    "        lineID = lines_normalized['lineId'].values[0]\n",
    "        directionID = lines_normalized['richtungsId'].values[0]\n",
    "\n",
    "        # get realtime information\n",
    "        depature_information =pd.json_normalize(lines_normalized['departures.departure'].values[0])\n",
    "        time_planned = depature_information['departureTime.timePlanned'].values[0]\n",
    "        time_real = depature_information['departureTime.timePlanned'].values[0]\n",
    "\n",
    "        single_entry = pd.DataFrame(columns = db_column_names,\n",
    "                                    data = [[timestamp, \n",
    "                                             stop_name, \n",
    "                                             rbl, \n",
    "                                             lineID, \n",
    "                                             directionID, \n",
    "                                             time_planned, \n",
    "                                             time_real]])\n",
    "        return_df = pd.concat([return_df, single_entry])\n",
    "\n",
    "        # convert datatypes\n",
    "        for col in ['API_ServerTime', 'TimePlanned', 'TimeReal']:\n",
    "            return_df[col] = pd.to_datetime(return_df[col])\n",
    "        \n",
    "    return return_df"
   ]
  },
  {
   "cell_type": "markdown",
   "id": "0c6cf6ae-9c58-45ed-a5e9-63f27190f9a3",
   "metadata": {},
   "source": [
    "# Prefilter for line direction to consider"
   ]
  },
  {
   "cell_type": "code",
   "execution_count": 5,
   "id": "d4d23a7a-f559-4734-87ce-24f5731a34a8",
   "metadata": {},
   "outputs": [],
   "source": [
    "def prefilter_for_direction(api_response_df: pd.DataFrame,\n",
    "                            directions_to_consider: List[str]) -> pd.DataFrame:\n",
    "    \"\"\"\n",
    "    Prefilter Dataframe to only to consider wanted directions\n",
    "\n",
    "    :param api_response_df pd.DataFrame: API response in pandas Dataframe Format\n",
    "    :param directions_to_consider List[str]: List of strings for all Directions we want to consider\n",
    "    :returns pd.DataFrame: Prefiltered pandas Dataframe with API response\n",
    "    \"\"\"\n",
    "\n",
    "    api_response_df = api_response_df.loc[api_response_df['Direction'].astype(str).isin(directions_to_consider)]\n",
    "    return api_response_df"
   ]
  },
  {
   "cell_type": "markdown",
   "id": "af6901f8-b4d1-4a41-b5e9-eb0303ce4bde",
   "metadata": {},
   "source": [
    "# Run pipeline"
   ]
  },
  {
   "cell_type": "code",
   "execution_count": 6,
   "id": "dc290852-f99e-435a-bf46-218854586fdb",
   "metadata": {},
   "outputs": [
    {
     "data": {
      "text/html": [
       "<pre style=\"white-space:pre;overflow-x:auto;line-height:normal;font-family:Menlo,'DejaVu Sans Mono',consolas,'Courier New',monospace\"><span style=\"color: #7fbfbf; text-decoration-color: #7fbfbf\">[01/06/24 22:18:10] </span><span style=\"color: #000080; text-decoration-color: #000080\">INFO    </span> Loading data from <span style=\"color: #ff8700; text-decoration-color: #ff8700\">API_Call_13A</span> <span style=\"font-weight: bold\">(</span>APIDataset<span style=\"font-weight: bold\">)</span><span style=\"color: #808000; text-decoration-color: #808000\">...</span>                     <a href=\"file://C:\\Users\\sschw\\miniconda3\\envs\\wl-data-engineering\\lib\\site-packages\\kedro\\io\\data_catalog.py\" target=\"_blank\"><span style=\"color: #7f7f7f; text-decoration-color: #7f7f7f\">data_catalog.py</span></a><span style=\"color: #7f7f7f; text-decoration-color: #7f7f7f\">:</span><a href=\"file://C:\\Users\\sschw\\miniconda3\\envs\\wl-data-engineering\\lib\\site-packages\\kedro\\io\\data_catalog.py#482\" target=\"_blank\"><span style=\"color: #7f7f7f; text-decoration-color: #7f7f7f\">482</span></a>\n",
       "</pre>\n"
      ],
      "text/plain": [
       "\u001b[2;36m[01/06/24 22:18:10]\u001b[0m\u001b[2;36m \u001b[0m\u001b[34mINFO    \u001b[0m Loading data from \u001b[38;5;208mAPI_Call_13A\u001b[0m \u001b[1m(\u001b[0mAPIDataset\u001b[1m)\u001b[0m\u001b[33m...\u001b[0m                     \u001b]8;id=909363;file://C:\\Users\\sschw\\miniconda3\\envs\\wl-data-engineering\\lib\\site-packages\\kedro\\io\\data_catalog.py\u001b\\\u001b[2mdata_catalog.py\u001b[0m\u001b]8;;\u001b\\\u001b[2m:\u001b[0m\u001b]8;id=390258;file://C:\\Users\\sschw\\miniconda3\\envs\\wl-data-engineering\\lib\\site-packages\\kedro\\io\\data_catalog.py#482\u001b\\\u001b[2m482\u001b[0m\u001b]8;;\u001b\\\n"
      ]
     },
     "metadata": {},
     "output_type": "display_data"
    },
    {
     "data": {
      "text/html": [
       "<pre style=\"white-space:pre;overflow-x:auto;line-height:normal;font-family:Menlo,'DejaVu Sans Mono',consolas,'Courier New',monospace\"><span style=\"color: #7fbfbf; text-decoration-color: #7fbfbf\">                    </span><span style=\"color: #000080; text-decoration-color: #000080\">INFO    </span> Loading data from <span style=\"color: #ff8700; text-decoration-color: #ff8700\">params:api_error_dict</span> <span style=\"font-weight: bold\">(</span>MemoryDataset<span style=\"font-weight: bold\">)</span><span style=\"color: #808000; text-decoration-color: #808000\">...</span>         <a href=\"file://C:\\Users\\sschw\\miniconda3\\envs\\wl-data-engineering\\lib\\site-packages\\kedro\\io\\data_catalog.py\" target=\"_blank\"><span style=\"color: #7f7f7f; text-decoration-color: #7f7f7f\">data_catalog.py</span></a><span style=\"color: #7f7f7f; text-decoration-color: #7f7f7f\">:</span><a href=\"file://C:\\Users\\sschw\\miniconda3\\envs\\wl-data-engineering\\lib\\site-packages\\kedro\\io\\data_catalog.py#482\" target=\"_blank\"><span style=\"color: #7f7f7f; text-decoration-color: #7f7f7f\">482</span></a>\n",
       "</pre>\n"
      ],
      "text/plain": [
       "\u001b[2;36m                   \u001b[0m\u001b[2;36m \u001b[0m\u001b[34mINFO    \u001b[0m Loading data from \u001b[38;5;208mparams:api_error_dict\u001b[0m \u001b[1m(\u001b[0mMemoryDataset\u001b[1m)\u001b[0m\u001b[33m...\u001b[0m         \u001b]8;id=141315;file://C:\\Users\\sschw\\miniconda3\\envs\\wl-data-engineering\\lib\\site-packages\\kedro\\io\\data_catalog.py\u001b\\\u001b[2mdata_catalog.py\u001b[0m\u001b]8;;\u001b\\\u001b[2m:\u001b[0m\u001b]8;id=583787;file://C:\\Users\\sschw\\miniconda3\\envs\\wl-data-engineering\\lib\\site-packages\\kedro\\io\\data_catalog.py#482\u001b\\\u001b[2m482\u001b[0m\u001b]8;;\u001b\\\n"
      ]
     },
     "metadata": {},
     "output_type": "display_data"
    },
    {
     "data": {
      "text/html": [
       "<pre style=\"white-space:pre;overflow-x:auto;line-height:normal;font-family:Menlo,'DejaVu Sans Mono',consolas,'Courier New',monospace\"><span style=\"color: #7fbfbf; text-decoration-color: #7fbfbf\">                    </span><span style=\"color: #000080; text-decoration-color: #000080\">INFO    </span> Loading data from <span style=\"color: #ff8700; text-decoration-color: #ff8700\">params:dataframe_schema_for_db</span>                   <a href=\"file://C:\\Users\\sschw\\miniconda3\\envs\\wl-data-engineering\\lib\\site-packages\\kedro\\io\\data_catalog.py\" target=\"_blank\"><span style=\"color: #7f7f7f; text-decoration-color: #7f7f7f\">data_catalog.py</span></a><span style=\"color: #7f7f7f; text-decoration-color: #7f7f7f\">:</span><a href=\"file://C:\\Users\\sschw\\miniconda3\\envs\\wl-data-engineering\\lib\\site-packages\\kedro\\io\\data_catalog.py#482\" target=\"_blank\"><span style=\"color: #7f7f7f; text-decoration-color: #7f7f7f\">482</span></a>\n",
       "<span style=\"color: #7fbfbf; text-decoration-color: #7fbfbf\">                    </span>         <span style=\"font-weight: bold\">(</span>MemoryDataset<span style=\"font-weight: bold\">)</span><span style=\"color: #808000; text-decoration-color: #808000\">...</span>                                                 <span style=\"color: #7f7f7f; text-decoration-color: #7f7f7f\">                   </span>\n",
       "</pre>\n"
      ],
      "text/plain": [
       "\u001b[2;36m                   \u001b[0m\u001b[2;36m \u001b[0m\u001b[34mINFO    \u001b[0m Loading data from \u001b[38;5;208mparams:dataframe_schema_for_db\u001b[0m                   \u001b]8;id=274585;file://C:\\Users\\sschw\\miniconda3\\envs\\wl-data-engineering\\lib\\site-packages\\kedro\\io\\data_catalog.py\u001b\\\u001b[2mdata_catalog.py\u001b[0m\u001b]8;;\u001b\\\u001b[2m:\u001b[0m\u001b]8;id=130622;file://C:\\Users\\sschw\\miniconda3\\envs\\wl-data-engineering\\lib\\site-packages\\kedro\\io\\data_catalog.py#482\u001b\\\u001b[2m482\u001b[0m\u001b]8;;\u001b\\\n",
       "\u001b[2;36m                    \u001b[0m         \u001b[1m(\u001b[0mMemoryDataset\u001b[1m)\u001b[0m\u001b[33m...\u001b[0m                                                 \u001b[2m                   \u001b[0m\n"
      ]
     },
     "metadata": {},
     "output_type": "display_data"
    },
    {
     "data": {
      "text/html": [
       "<pre style=\"white-space:pre;overflow-x:auto;line-height:normal;font-family:Menlo,'DejaVu Sans Mono',consolas,'Courier New',monospace\"><span style=\"color: #7fbfbf; text-decoration-color: #7fbfbf\">                    </span><span style=\"color: #000080; text-decoration-color: #000080\">INFO    </span> Loading data from <span style=\"color: #ff8700; text-decoration-color: #ff8700\">params:line_directions_to_consider</span>               <a href=\"file://C:\\Users\\sschw\\miniconda3\\envs\\wl-data-engineering\\lib\\site-packages\\kedro\\io\\data_catalog.py\" target=\"_blank\"><span style=\"color: #7f7f7f; text-decoration-color: #7f7f7f\">data_catalog.py</span></a><span style=\"color: #7f7f7f; text-decoration-color: #7f7f7f\">:</span><a href=\"file://C:\\Users\\sschw\\miniconda3\\envs\\wl-data-engineering\\lib\\site-packages\\kedro\\io\\data_catalog.py#482\" target=\"_blank\"><span style=\"color: #7f7f7f; text-decoration-color: #7f7f7f\">482</span></a>\n",
       "<span style=\"color: #7fbfbf; text-decoration-color: #7fbfbf\">                    </span>         <span style=\"font-weight: bold\">(</span>MemoryDataset<span style=\"font-weight: bold\">)</span><span style=\"color: #808000; text-decoration-color: #808000\">...</span>                                                 <span style=\"color: #7f7f7f; text-decoration-color: #7f7f7f\">                   </span>\n",
       "</pre>\n"
      ],
      "text/plain": [
       "\u001b[2;36m                   \u001b[0m\u001b[2;36m \u001b[0m\u001b[34mINFO    \u001b[0m Loading data from \u001b[38;5;208mparams:line_directions_to_consider\u001b[0m               \u001b]8;id=424124;file://C:\\Users\\sschw\\miniconda3\\envs\\wl-data-engineering\\lib\\site-packages\\kedro\\io\\data_catalog.py\u001b\\\u001b[2mdata_catalog.py\u001b[0m\u001b]8;;\u001b\\\u001b[2m:\u001b[0m\u001b]8;id=343652;file://C:\\Users\\sschw\\miniconda3\\envs\\wl-data-engineering\\lib\\site-packages\\kedro\\io\\data_catalog.py#482\u001b\\\u001b[2m482\u001b[0m\u001b]8;;\u001b\\\n",
       "\u001b[2;36m                    \u001b[0m         \u001b[1m(\u001b[0mMemoryDataset\u001b[1m)\u001b[0m\u001b[33m...\u001b[0m                                                 \u001b[2m                   \u001b[0m\n"
      ]
     },
     "metadata": {},
     "output_type": "display_data"
    },
    {
     "name": "stdout",
     "output_type": "stream",
     "text": [
      "API call for successful!\n"
     ]
    }
   ],
   "source": [
    "# mockup data inputs to pipeline\n",
    "mockup_api_response = catalog.load(\"API_Call_13A\")\n",
    "mockup_api_error_dict = catalog.load(\"params:api_error_dict\")\n",
    "mockup_column_names = catalog.load(\"params:dataframe_schema_for_db\")\n",
    "mockup_direction = catalog.load(\"params:line_directions_to_consider\")\n",
    "\n",
    "# Run pipeline\n",
    "data_output = API_database_ingestion_pipeline(mockup_api_response, \n",
    "                                              mockup_api_error_dict,\n",
    "                                              mockup_column_names,\n",
    "                                              mockup_direction)"
   ]
  },
  {
   "cell_type": "markdown",
   "id": "6285f7e2-7d03-46b6-80c2-4a5d328eb20b",
   "metadata": {},
   "source": [
    "# Write to database"
   ]
  },
  {
   "cell_type": "markdown",
   "id": "ed16b304-0a3e-4277-b199-0ad134a5773e",
   "metadata": {},
   "source": [
    "The following Code was used to generate the stage table in MS SQL Server:\n",
    "```\n",
    "Use WienerLinienDB\n",
    "\n",
    "IF NOT EXISTS(SELECT * FROM information_schema.tables\n",
    "                 WHERE table_name='stage_api_response' AND table_schema='dbo') \n",
    "                 CREATE TABLE stage_api_response (\n",
    "                        [API_ServerTime] datetime2,\n",
    "                        [StopName] varchar(100),\n",
    "\t\t\t\t\t\t[rbl] int,\n",
    "\t\t\t\t\t\t[LineID] int,\n",
    "\t\t\t\t\t\t[Direction] int,\n",
    "\t\t\t\t\t\t[TimePlanned] datetime2,\n",
    "\t\t\t\t\t\t[TimeReal] datetime2)\n",
    "\n",
    "SELECT * FROM stage_api_response;\n",
    "\n",
    "```"
   ]
  }
 ],
 "metadata": {
  "kernelspec": {
   "display_name": "Kedro (wl_data_engineering)",
   "language": "python",
   "name": "kedro_wl_data_engineering"
  },
  "language_info": {
   "codemirror_mode": {
    "name": "ipython",
    "version": 3
   },
   "file_extension": ".py",
   "mimetype": "text/x-python",
   "name": "python",
   "nbconvert_exporter": "python",
   "pygments_lexer": "ipython3",
   "version": "3.10.13"
  }
 },
 "nbformat": 4,
 "nbformat_minor": 5
}
