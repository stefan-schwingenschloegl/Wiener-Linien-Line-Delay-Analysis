{
 "cells": [
  {
   "cell_type": "markdown",
   "id": "193105b7-c233-4de3-b192-96bde0cfb0f3",
   "metadata": {},
   "source": [
    "# Generate Queries from line names\n",
    "* Author: Stefan Roland Schwingenschlögl\n",
    "* email: stefan.roland.schwingenschloegl@gmail.com\n",
    "* github: https://github.com/stefan-schwingenschloegl/\n",
    "---\n",
    "This notebooks is intended to generate the Kedro specific data catalog definition.\n",
    "\n",
    "## Input:\n",
    "The parameters for the kedro dataset definitions are stated in `parameters_API_database_ingestion.yml` and are:\n",
    "<pre>\n",
    "lines_to_evaluate: [line_1, line_2, ..., line_n]\n",
    "wl_monitor_url: {endpoint to the Wiener Linien API}\n",
    "line_directions_to_consider: [direction_1, direction_2]\n",
    "</pre>\n",
    "\n",
    "These parameters are defining which stopIDs are needed to be called.\n",
    "\n",
    "## Output\n",
    "The result of this notebook are the resulting kedro dataset entries. As a result the The structure of the resulting string is:\n",
    "<pre>\n",
    "API_{human_readable_line_name}_Call:\n",
    "    type: api.APIDataset\n",
    "    url: {Query to call all stops from the line}\n",
    "</pre>\n",
    "\n",
    "The ouptut needs to be copied and pasted into the `catalog.yml` -file. Because of this manual step in the analysis this user output is generated here in a notebook and not in a kedro pipeline."
   ]
  },
  {
   "cell_type": "code",
   "execution_count": 1,
   "id": "c3a9e391-9156-40d7-bc01-6e52db11cc09",
   "metadata": {},
   "outputs": [],
   "source": [
    "from typing import List, Dict\n",
    "import pandas as pd"
   ]
  },
  {
   "cell_type": "markdown",
   "id": "7d992413-0f29-45a0-8d31-07455622678f",
   "metadata": {},
   "source": [
    "# Pipeline Code to generate Query from line Name"
   ]
  },
  {
   "cell_type": "code",
   "execution_count": 2,
   "id": "2af39488-591d-4f20-bfdd-09ba88f22fe7",
   "metadata": {},
   "outputs": [
    {
     "data": {
      "text/html": [
       "<pre style=\"white-space:pre;overflow-x:auto;line-height:normal;font-family:Menlo,'DejaVu Sans Mono',consolas,'Courier New',monospace\"><span style=\"color: #7fbfbf; text-decoration-color: #7fbfbf\">[12/27/23 13:49:34] </span><span style=\"color: #000080; text-decoration-color: #000080\">INFO    </span> Loading data from <span style=\"color: #ff8700; text-decoration-color: #ff8700\">params:lines_to_evaluate</span> <span style=\"font-weight: bold\">(</span>MemoryDataset<span style=\"font-weight: bold\">)</span><span style=\"color: #808000; text-decoration-color: #808000\">...</span>      <a href=\"file://C:\\Users\\sschw\\miniconda3\\envs\\wl-data-engineering\\lib\\site-packages\\kedro\\io\\data_catalog.py\" target=\"_blank\"><span style=\"color: #7f7f7f; text-decoration-color: #7f7f7f\">data_catalog.py</span></a><span style=\"color: #7f7f7f; text-decoration-color: #7f7f7f\">:</span><a href=\"file://C:\\Users\\sschw\\miniconda3\\envs\\wl-data-engineering\\lib\\site-packages\\kedro\\io\\data_catalog.py#482\" target=\"_blank\"><span style=\"color: #7f7f7f; text-decoration-color: #7f7f7f\">482</span></a>\n",
       "</pre>\n"
      ],
      "text/plain": [
       "\u001b[2;36m[12/27/23 13:49:34]\u001b[0m\u001b[2;36m \u001b[0m\u001b[34mINFO    \u001b[0m Loading data from \u001b[38;5;208mparams:lines_to_evaluate\u001b[0m \u001b[1m(\u001b[0mMemoryDataset\u001b[1m)\u001b[0m\u001b[33m...\u001b[0m      \u001b]8;id=753069;file://C:\\Users\\sschw\\miniconda3\\envs\\wl-data-engineering\\lib\\site-packages\\kedro\\io\\data_catalog.py\u001b\\\u001b[2mdata_catalog.py\u001b[0m\u001b]8;;\u001b\\\u001b[2m:\u001b[0m\u001b]8;id=557705;file://C:\\Users\\sschw\\miniconda3\\envs\\wl-data-engineering\\lib\\site-packages\\kedro\\io\\data_catalog.py#482\u001b\\\u001b[2m482\u001b[0m\u001b]8;;\u001b\\\n"
      ]
     },
     "metadata": {},
     "output_type": "display_data"
    },
    {
     "data": {
      "text/html": [
       "<pre style=\"white-space:pre;overflow-x:auto;line-height:normal;font-family:Menlo,'DejaVu Sans Mono',consolas,'Courier New',monospace\"><span style=\"color: #7fbfbf; text-decoration-color: #7fbfbf\">                    </span><span style=\"color: #000080; text-decoration-color: #000080\">INFO    </span> Loading data from <span style=\"color: #ff8700; text-decoration-color: #ff8700\">params:wl_monitor_url</span> <span style=\"font-weight: bold\">(</span>MemoryDataset<span style=\"font-weight: bold\">)</span><span style=\"color: #808000; text-decoration-color: #808000\">...</span>         <a href=\"file://C:\\Users\\sschw\\miniconda3\\envs\\wl-data-engineering\\lib\\site-packages\\kedro\\io\\data_catalog.py\" target=\"_blank\"><span style=\"color: #7f7f7f; text-decoration-color: #7f7f7f\">data_catalog.py</span></a><span style=\"color: #7f7f7f; text-decoration-color: #7f7f7f\">:</span><a href=\"file://C:\\Users\\sschw\\miniconda3\\envs\\wl-data-engineering\\lib\\site-packages\\kedro\\io\\data_catalog.py#482\" target=\"_blank\"><span style=\"color: #7f7f7f; text-decoration-color: #7f7f7f\">482</span></a>\n",
       "</pre>\n"
      ],
      "text/plain": [
       "\u001b[2;36m                   \u001b[0m\u001b[2;36m \u001b[0m\u001b[34mINFO    \u001b[0m Loading data from \u001b[38;5;208mparams:wl_monitor_url\u001b[0m \u001b[1m(\u001b[0mMemoryDataset\u001b[1m)\u001b[0m\u001b[33m...\u001b[0m         \u001b]8;id=481727;file://C:\\Users\\sschw\\miniconda3\\envs\\wl-data-engineering\\lib\\site-packages\\kedro\\io\\data_catalog.py\u001b\\\u001b[2mdata_catalog.py\u001b[0m\u001b]8;;\u001b\\\u001b[2m:\u001b[0m\u001b]8;id=189535;file://C:\\Users\\sschw\\miniconda3\\envs\\wl-data-engineering\\lib\\site-packages\\kedro\\io\\data_catalog.py#482\u001b\\\u001b[2m482\u001b[0m\u001b]8;;\u001b\\\n"
      ]
     },
     "metadata": {},
     "output_type": "display_data"
    },
    {
     "data": {
      "text/html": [
       "<pre style=\"white-space:pre;overflow-x:auto;line-height:normal;font-family:Menlo,'DejaVu Sans Mono',consolas,'Courier New',monospace\"><span style=\"color: #7fbfbf; text-decoration-color: #7fbfbf\">                    </span><span style=\"color: #000080; text-decoration-color: #000080\">INFO    </span> Loading data from <span style=\"color: #ff8700; text-decoration-color: #ff8700\">params:line_directions_to_consider</span>               <a href=\"file://C:\\Users\\sschw\\miniconda3\\envs\\wl-data-engineering\\lib\\site-packages\\kedro\\io\\data_catalog.py\" target=\"_blank\"><span style=\"color: #7f7f7f; text-decoration-color: #7f7f7f\">data_catalog.py</span></a><span style=\"color: #7f7f7f; text-decoration-color: #7f7f7f\">:</span><a href=\"file://C:\\Users\\sschw\\miniconda3\\envs\\wl-data-engineering\\lib\\site-packages\\kedro\\io\\data_catalog.py#482\" target=\"_blank\"><span style=\"color: #7f7f7f; text-decoration-color: #7f7f7f\">482</span></a>\n",
       "<span style=\"color: #7fbfbf; text-decoration-color: #7fbfbf\">                    </span>         <span style=\"font-weight: bold\">(</span>MemoryDataset<span style=\"font-weight: bold\">)</span><span style=\"color: #808000; text-decoration-color: #808000\">...</span>                                                 <span style=\"color: #7f7f7f; text-decoration-color: #7f7f7f\">                   </span>\n",
       "</pre>\n"
      ],
      "text/plain": [
       "\u001b[2;36m                   \u001b[0m\u001b[2;36m \u001b[0m\u001b[34mINFO    \u001b[0m Loading data from \u001b[38;5;208mparams:line_directions_to_consider\u001b[0m               \u001b]8;id=21039;file://C:\\Users\\sschw\\miniconda3\\envs\\wl-data-engineering\\lib\\site-packages\\kedro\\io\\data_catalog.py\u001b\\\u001b[2mdata_catalog.py\u001b[0m\u001b]8;;\u001b\\\u001b[2m:\u001b[0m\u001b]8;id=187025;file://C:\\Users\\sschw\\miniconda3\\envs\\wl-data-engineering\\lib\\site-packages\\kedro\\io\\data_catalog.py#482\u001b\\\u001b[2m482\u001b[0m\u001b]8;;\u001b\\\n",
       "\u001b[2;36m                    \u001b[0m         \u001b[1m(\u001b[0mMemoryDataset\u001b[1m)\u001b[0m\u001b[33m...\u001b[0m                                                 \u001b[2m                   \u001b[0m\n"
      ]
     },
     "metadata": {},
     "output_type": "display_data"
    },
    {
     "data": {
      "text/html": [
       "<pre style=\"white-space:pre;overflow-x:auto;line-height:normal;font-family:Menlo,'DejaVu Sans Mono',consolas,'Courier New',monospace\"><span style=\"color: #7fbfbf; text-decoration-color: #7fbfbf\">                    </span><span style=\"color: #000080; text-decoration-color: #000080\">INFO    </span> Loading data from <span style=\"color: #ff8700; text-decoration-color: #ff8700\">db_linie</span> <span style=\"font-weight: bold\">(</span>SQLQueryDataset<span style=\"font-weight: bold\">)</span><span style=\"color: #808000; text-decoration-color: #808000\">...</span>                    <a href=\"file://C:\\Users\\sschw\\miniconda3\\envs\\wl-data-engineering\\lib\\site-packages\\kedro\\io\\data_catalog.py\" target=\"_blank\"><span style=\"color: #7f7f7f; text-decoration-color: #7f7f7f\">data_catalog.py</span></a><span style=\"color: #7f7f7f; text-decoration-color: #7f7f7f\">:</span><a href=\"file://C:\\Users\\sschw\\miniconda3\\envs\\wl-data-engineering\\lib\\site-packages\\kedro\\io\\data_catalog.py#482\" target=\"_blank\"><span style=\"color: #7f7f7f; text-decoration-color: #7f7f7f\">482</span></a>\n",
       "</pre>\n"
      ],
      "text/plain": [
       "\u001b[2;36m                   \u001b[0m\u001b[2;36m \u001b[0m\u001b[34mINFO    \u001b[0m Loading data from \u001b[38;5;208mdb_linie\u001b[0m \u001b[1m(\u001b[0mSQLQueryDataset\u001b[1m)\u001b[0m\u001b[33m...\u001b[0m                    \u001b]8;id=6679;file://C:\\Users\\sschw\\miniconda3\\envs\\wl-data-engineering\\lib\\site-packages\\kedro\\io\\data_catalog.py\u001b\\\u001b[2mdata_catalog.py\u001b[0m\u001b]8;;\u001b\\\u001b[2m:\u001b[0m\u001b]8;id=906906;file://C:\\Users\\sschw\\miniconda3\\envs\\wl-data-engineering\\lib\\site-packages\\kedro\\io\\data_catalog.py#482\u001b\\\u001b[2m482\u001b[0m\u001b]8;;\u001b\\\n"
      ]
     },
     "metadata": {},
     "output_type": "display_data"
    },
    {
     "data": {
      "text/html": [
       "<pre style=\"white-space:pre;overflow-x:auto;line-height:normal;font-family:Menlo,'DejaVu Sans Mono',consolas,'Courier New',monospace\"><span style=\"color: #7fbfbf; text-decoration-color: #7fbfbf\">                    </span><span style=\"color: #000080; text-decoration-color: #000080\">INFO    </span> Loading data from <span style=\"color: #ff8700; text-decoration-color: #ff8700\">db_fahrwegverlaeufe</span> <span style=\"font-weight: bold\">(</span>SQLQueryDataset<span style=\"font-weight: bold\">)</span><span style=\"color: #808000; text-decoration-color: #808000\">...</span>         <a href=\"file://C:\\Users\\sschw\\miniconda3\\envs\\wl-data-engineering\\lib\\site-packages\\kedro\\io\\data_catalog.py\" target=\"_blank\"><span style=\"color: #7f7f7f; text-decoration-color: #7f7f7f\">data_catalog.py</span></a><span style=\"color: #7f7f7f; text-decoration-color: #7f7f7f\">:</span><a href=\"file://C:\\Users\\sschw\\miniconda3\\envs\\wl-data-engineering\\lib\\site-packages\\kedro\\io\\data_catalog.py#482\" target=\"_blank\"><span style=\"color: #7f7f7f; text-decoration-color: #7f7f7f\">482</span></a>\n",
       "</pre>\n"
      ],
      "text/plain": [
       "\u001b[2;36m                   \u001b[0m\u001b[2;36m \u001b[0m\u001b[34mINFO    \u001b[0m Loading data from \u001b[38;5;208mdb_fahrwegverlaeufe\u001b[0m \u001b[1m(\u001b[0mSQLQueryDataset\u001b[1m)\u001b[0m\u001b[33m...\u001b[0m         \u001b]8;id=867611;file://C:\\Users\\sschw\\miniconda3\\envs\\wl-data-engineering\\lib\\site-packages\\kedro\\io\\data_catalog.py\u001b\\\u001b[2mdata_catalog.py\u001b[0m\u001b]8;;\u001b\\\u001b[2m:\u001b[0m\u001b]8;id=33283;file://C:\\Users\\sschw\\miniconda3\\envs\\wl-data-engineering\\lib\\site-packages\\kedro\\io\\data_catalog.py#482\u001b\\\u001b[2m482\u001b[0m\u001b]8;;\u001b\\\n"
      ]
     },
     "metadata": {},
     "output_type": "display_data"
    },
    {
     "name": "stdout",
     "output_type": "stream",
     "text": [
      "\n",
      "Here are the Catalog Entries for a single API call for the specified Lines.\n",
      "Copy these to clipboard and insert into catalog.yml in folder structure\n",
      "\n",
      "~~~ Kedro Catalog Entries for 1A ~~~\n",
      "API_1A_Call:\n",
      "  type: api.APIDataset\n",
      "  url: http://www.wienerlinien.at/ogd_realtime/monitor?StopID=2915&StopID=2904&StopID=2905&StopID=2906&StopID=2907&StopID=2910&StopID=2911&StopID=2938&StopID=2926&StopID=2945&StopID=2914&StopID=2944\n"
     ]
    }
   ],
   "source": [
    "def get_query():\n",
    "    \"\"\"Generate Query for the human readable line name and directions stated in the confgig file\n",
    "    \"\"\"\n",
    "    # declare variables from config files\n",
    "    line_names = catalog.load('params:lines_to_evaluate')\n",
    "    wl_monitor_endpoint = catalog.load('params:wl_monitor_url')\n",
    "    line_directions_to_consider = catalog.load(\"params:line_directions_to_consider\")\n",
    "\n",
    "    # get lineID from human readable name\n",
    "    lineIDs = get_lineID(line_names)\n",
    "\n",
    "    # get all stopID's from lineID\n",
    "    stop_df = get_stopIDs(lineIDs, line_directions_to_consider)\n",
    "\n",
    "    # generate query from information\n",
    "    query_dict = generate_query_string(wl_monitor_endpoint, stop_df)\n",
    "\n",
    "    # print all queries as kedro catalog entry\n",
    "    print_data_in_kedro_catalog_format(query_dict)\n",
    "\n",
    "def get_lineID(line_names: List[str]) -> str:\n",
    "    \"\"\"\n",
    "    translate human readable line_name to API internal lineID\n",
    "\n",
    "    :param line_name str: human known name of line to be assessed\n",
    "    :return str: API internal lineID\n",
    "    \"\"\"\n",
    "    lines = catalog.load(\"db_linie\").drop_duplicates()\n",
    "\n",
    "    lineIDs = lines.loc[lines['LineText'].isin(line_names)][['LineID', 'LineText']].drop_duplicates()\n",
    "\n",
    "    return lineIDs\n",
    "\n",
    "def get_stopIDs(lineIDs:pd.DataFrame,\n",
    "                line_directions_to_consider: List[int]) -> pd.DataFrame:\n",
    "    \"\"\"\n",
    "    Find all stopIDs to API lineID. The stops are the most common route per line\n",
    "\n",
    "    :param lineID str: API internal lineID\n",
    "    :return str: API internal stopIDs\n",
    "    \"\"\"\n",
    "    routes = catalog.load(\"db_fahrwegverlaeufe\").drop_duplicates()\n",
    "\n",
    "    # prefilter before join to keep computational costs of join low\n",
    "    routes = routes.loc[(routes['LineID'].isin(lineIDs['LineID'].unique())) & \\\n",
    "                        (routes['PatternID'].isin(line_directions_to_consider))]\n",
    "\n",
    "    # join tables\n",
    "    stop_df = lineIDs.merge(routes,\n",
    "                  on = 'LineID',\n",
    "                  how='left')\n",
    "\n",
    "    return stop_df\n",
    "\n",
    "def generate_query_string(wl_monitor_endpoint: str,\n",
    "                          stop_df: pd.DataFrame) -> Dict[str, str]:\n",
    "    \"\"\"\n",
    "    Generate dictionary with all query parameters per line as dictionary\n",
    "\n",
    "    :param wl_monitor_endpoint str: endpoint of the Wiener Linien API -> defined in config\n",
    "    :param stop_df pd.DataFrame: pandas dataframe with information \n",
    "    :return Dict[str, str]: Dictionary where the key is the line and the value is the query string\n",
    "    \"\"\"\n",
    "\n",
    "    query_dict = {}\n",
    "    \n",
    "    for line in stop_df['LineText'].unique():\n",
    "        stop_df_line = stop_df.loc[stop_df['LineText'] == line]\n",
    "        query_dict[line] = wl_monitor_endpoint + 'StopID=' + '&StopID='.join(str(stop) for stop in stop_df_line['StopID'].unique())\n",
    "\n",
    "\n",
    "    return query_dict\n",
    "\n",
    "def print_data_in_kedro_catalog_format(query_dict: Dict[str, str]):\n",
    "    \"\"\"\n",
    "    print all queries in kedro catalog format. The printed output can be copied and pasted into the catalog.yml-file\n",
    "\n",
    "    :params query_dict Dict[str,str]: Dictionary where the key is the line and the value is the query string\n",
    "    \"\"\"\n",
    "    print(\"\\nHere are the Catalog Entries for a single API call for the specified Lines.\\n\"\\\n",
    "          \"Copy these to clipboard and insert into catalog.yml in folder structure\")\n",
    "    for line in query_dict.keys():\n",
    "        print(f\"\\n~~~ Kedro Catalog Entries for {line} ~~~\")\n",
    "        print(f\"API_{line}_Call:\")\n",
    "        print(f\"  type: api.APIDataset\")\n",
    "        print(f\"  url: {query_dict[line]}\")\n",
    "\n",
    "        \n",
    "\n",
    "get_query()"
   ]
  }
 ],
 "metadata": {
  "kernelspec": {
   "display_name": "Kedro (wl_data_engineering)",
   "language": "python",
   "name": "kedro_wl_data_engineering"
  },
  "language_info": {
   "codemirror_mode": {
    "name": "ipython",
    "version": 3
   },
   "file_extension": ".py",
   "mimetype": "text/x-python",
   "name": "python",
   "nbconvert_exporter": "python",
   "pygments_lexer": "ipython3",
   "version": "3.10.13"
  }
 },
 "nbformat": 4,
 "nbformat_minor": 5
}
